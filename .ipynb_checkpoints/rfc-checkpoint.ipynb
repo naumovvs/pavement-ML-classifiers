{
 "cells": [
  {
   "cell_type": "code",
   "execution_count": 1,
   "metadata": {
    "collapsed": true
   },
   "outputs": [],
   "source": [
    "import numpy as np\n",
    "from sklearn.model_selection import train_test_split\n",
    "from sklearn.ensemble import RandomForestClassifier\n",
    "from sklearn.metrics import accuracy_score\n",
    "# from sklearn.metrics import confusion_matrix\n",
    "import matplotlib.pyplot as plt"
   ]
  },
  {
   "cell_type": "markdown",
   "metadata": {},
   "source": [
    "Load datasets"
   ]
  },
  {
   "cell_type": "code",
   "execution_count": 2,
   "metadata": {
    "collapsed": true
   },
   "outputs": [],
   "source": [
    "X, Y = [], []"
   ]
  },
  {
   "cell_type": "code",
   "execution_count": 3,
   "metadata": {
    "collapsed": true
   },
   "outputs": [],
   "source": [
    "# 40 records\n",
    "xs0 = np.loadtxt('40ARs/M_Car1_aug_shs0.txt')\n",
    "xs1 = np.loadtxt('40ARs/M_Car1_aug_shs1.txt')\n",
    "xs2 = np.loadtxt('40ARs/M_Car1_aug_shs2.txt')\n",
    "xs3 = np.loadtxt('40ARs/M_Car1_aug_shs3.txt')\n",
    "xs = np.append(xs0, xs1, axis=0)\n",
    "xs = np.append(xs, xs2, axis=0)\n",
    "xs = np.append(xs, xs3, axis=0)\n",
    "\n",
    "ys = [0] * 10\n",
    "ys.extend([1] * 10)\n",
    "ys.extend([2] * 10)\n",
    "ys.extend([3] * 10)\n",
    "ys = np.array(ys)\n",
    "\n",
    "X.append(xs)\n",
    "Y.append(ys)"
   ]
  },
  {
   "cell_type": "code",
   "execution_count": 4,
   "metadata": {
    "collapsed": true
   },
   "outputs": [],
   "source": [
    "# 400 records\n",
    "xs0 = np.loadtxt('400ARs/M_Car1_aug_shs0.txt')\n",
    "xs1 = np.loadtxt('400ARs/M_Car1_aug_shs1.txt')\n",
    "xs2 = np.loadtxt('400ARs/M_Car1_aug_shs2.txt')\n",
    "xs3 = np.loadtxt('400ARs/M_Car1_aug_shs3.txt')\n",
    "xs = np.append(xs0, xs1, axis=0)\n",
    "xs = np.append(xs, xs2, axis=0)\n",
    "xs = np.append(xs, xs3, axis=0)\n",
    "\n",
    "ys = [0] * 100\n",
    "ys.extend([1] * 100)\n",
    "ys.extend([2] * 100)\n",
    "ys.extend([3] * 100)\n",
    "ys = np.array(ys)\n",
    "\n",
    "X.append(xs)\n",
    "Y.append(ys)"
   ]
  },
  {
   "cell_type": "code",
   "execution_count": 5,
   "metadata": {
    "collapsed": true
   },
   "outputs": [],
   "source": [
    "# 800 records\n",
    "xs0 = np.loadtxt('800ARs/M_Car1_aug_shs0.txt')\n",
    "xs1 = np.loadtxt('800ARs/M_Car1_aug_shs1.txt')\n",
    "xs2 = np.loadtxt('800ARs/M_Car1_aug_shs2.txt')\n",
    "xs3 = np.loadtxt('800ARs/M_Car1_aug_shs3.txt')\n",
    "xs = np.append(xs0, xs1, axis=0)\n",
    "xs = np.append(xs, xs2, axis=0)\n",
    "xs = np.append(xs, xs3, axis=0)\n",
    "\n",
    "ys = [0] * 200\n",
    "ys.extend([1] * 200)\n",
    "ys.extend([2] * 200)\n",
    "ys.extend([3] * 200)\n",
    "ys = np.array(ys)\n",
    "\n",
    "X.append(xs)\n",
    "Y.append(ys)"
   ]
  },
  {
   "cell_type": "code",
   "execution_count": 6,
   "metadata": {
    "collapsed": true
   },
   "outputs": [],
   "source": [
    "# 1600 records\n",
    "xs0 = np.loadtxt('1600ARs/M_Car1_aug_shs0.txt')\n",
    "xs1 = np.loadtxt('1600ARs/M_Car1_aug_shs1.txt')\n",
    "xs2 = np.loadtxt('1600ARs/M_Car1_aug_shs2.txt')\n",
    "xs3 = np.loadtxt('1600ARs/M_Car1_aug_shs3.txt')\n",
    "xs = np.append(xs0, xs1, axis=0)\n",
    "xs = np.append(xs, xs2, axis=0)\n",
    "xs = np.append(xs, xs3, axis=0)\n",
    "\n",
    "ys = [0] * 400\n",
    "ys.extend([1] * 400)\n",
    "ys.extend([2] * 400)\n",
    "ys.extend([3] * 400)\n",
    "ys = np.array(ys)\n",
    "\n",
    "X.append(xs)\n",
    "Y.append(ys)"
   ]
  },
  {
   "cell_type": "code",
   "execution_count": 7,
   "metadata": {
    "collapsed": true
   },
   "outputs": [],
   "source": [
    "# 3200 records\n",
    "xs0 = np.loadtxt('3200ARs/M_Car1_aug_shs0.txt')\n",
    "xs1 = np.loadtxt('3200ARs/M_Car1_aug_shs1.txt')\n",
    "xs2 = np.loadtxt('3200ARs/M_Car1_aug_shs2.txt')\n",
    "xs3 = np.loadtxt('3200ARs/M_Car1_aug_shs3.txt')\n",
    "xs = np.append(xs0, xs1, axis=0)\n",
    "xs = np.append(xs, xs2, axis=0)\n",
    "xs = np.append(xs, xs3, axis=0)\n",
    "\n",
    "ys = [0] * 800\n",
    "ys.extend([1] * 800)\n",
    "ys.extend([2] * 800)\n",
    "ys.extend([3] * 800)\n",
    "ys = np.array(ys)\n",
    "\n",
    "X.append(xs)\n",
    "Y.append(ys)"
   ]
  },
  {
   "cell_type": "code",
   "execution_count": 8,
   "metadata": {
    "collapsed": true
   },
   "outputs": [],
   "source": [
    "# 4000 records\n",
    "xs0 = np.loadtxt('4000ARs/M_Car1_aug_shs0.txt')\n",
    "xs1 = np.loadtxt('4000ARs/M_Car1_aug_shs1.txt')\n",
    "xs2 = np.loadtxt('4000ARs/M_Car1_aug_shs2.txt')\n",
    "xs3 = np.loadtxt('4000ARs/M_Car1_aug_shs3.txt')\n",
    "xs = np.append(xs0, xs1, axis=0)\n",
    "xs = np.append(xs, xs2, axis=0)\n",
    "xs = np.append(xs, xs3, axis=0)\n",
    "\n",
    "ys = [0] * 1000\n",
    "ys.extend([1] * 1000)\n",
    "ys.extend([2] * 1000)\n",
    "ys.extend([3] * 1000)\n",
    "ys = np.array(ys)\n",
    "\n",
    "X.append(xs)\n",
    "Y.append(ys)"
   ]
  },
  {
   "cell_type": "markdown",
   "metadata": {},
   "source": [
    "Train classifiers"
   ]
  },
  {
   "cell_type": "code",
   "execution_count": 38,
   "metadata": {
    "collapsed": true
   },
   "outputs": [],
   "source": [
    "n_es = [5, 10, 20, 50, 100]\n",
    "sample_split = [0.2, 0.3, 0.4, 0.5, 0.6, 0.7, 0.8]\n",
    "\n",
    "for n_estimators in n_es:\n",
    "    accs = []\n",
    "    print \"Number of trees ::\", n_estimators\n",
    "    print\n",
    "    for train_size in sample_split:\n",
    "        train_acc, test_acc = [], []\n",
    "        for xs, ys in zip(X, Y):\n",
    "            train_x, test_x, train_y, test_y = train_test_split(xs, ys, train_size=train_size)\n",
    "            clf = RandomForestClassifier(n_estimators = n_estimators)\n",
    "            clf.fit(train_x, train_y)\n",
    "            train_acc.append(accuracy_score(train_y, clf.predict(train_x)))\n",
    "            test_acc.append(accuracy_score(test_y, clf.predict(test_x)))\n",
    "        # print \"Sample split :: {}% / {}%\".format(100 * train_size, 100 * (1 - train_size))\n",
    "        # print train_acc\n",
    "        # print test_acc\n",
    "        # plt.plot(train_acc)\n",
    "        # plt.plot(test_acc)\n",
    "        # plt.show()\n",
    "        accs.append(test_acc)\n",
    "    print np.matrix(accs)\n",
    "    print"
   ]
  },
  {
   "cell_type": "code",
   "execution_count": 41,
   "metadata": {},
   "outputs": [
    {
     "data": {
      "text/plain": [
       "matrix([[ 0.1875    ,  0.225     ,  0.340625  ,  0.346875  ,  0.453125  ,\n",
       "          0.5065625 ],\n",
       "        [ 0.21428571,  0.28928571,  0.32678571,  0.38928571,  0.52589286,\n",
       "          0.59928571],\n",
       "        [ 0.20833333,  0.3       ,  0.34583333,  0.44479167,  0.553125  ,\n",
       "          0.62083333],\n",
       "        [ 0.25      ,  0.22      ,  0.3275    ,  0.44125   ,  0.56125   ,\n",
       "          0.6795    ],\n",
       "        [ 0.        ,  0.30625   ,  0.43125   ,  0.4359375 ,  0.62578125,\n",
       "          0.69125   ],\n",
       "        [ 0.16666667,  0.33333333,  0.45      ,  0.48125   ,  0.61770833,\n",
       "          0.69916667],\n",
       "        [ 0.375     ,  0.2875    ,  0.4375    ,  0.44375   ,  0.69375   ,\n",
       "          0.71125   ]])"
      ]
     },
     "execution_count": 41,
     "metadata": {},
     "output_type": "execute_result"
    }
   ],
   "source": [
    "accs = np.matrix(accs)\n",
    "accs"
   ]
  },
  {
   "cell_type": "code",
   "execution_count": null,
   "metadata": {
    "collapsed": true
   },
   "outputs": [],
   "source": []
  }
 ],
 "metadata": {
  "kernelspec": {
   "display_name": "Python 2",
   "language": "python",
   "name": "python2"
  },
  "language_info": {
   "codemirror_mode": {
    "name": "ipython",
    "version": 2
   },
   "file_extension": ".py",
   "mimetype": "text/x-python",
   "name": "python",
   "nbconvert_exporter": "python",
   "pygments_lexer": "ipython2",
   "version": "2.7.14"
  }
 },
 "nbformat": 4,
 "nbformat_minor": 2
}
