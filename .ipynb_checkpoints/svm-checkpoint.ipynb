{
 "cells": [
  {
   "cell_type": "code",
   "execution_count": 1,
   "metadata": {
    "collapsed": true
   },
   "outputs": [],
   "source": [
    "import numpy as np\n",
    "from sklearn.model_selection import train_test_split\n",
    "from sklearn import svm\n",
    "from sklearn.metrics import accuracy_score\n",
    "from sklearn.metrics import confusion_matrix"
   ]
  },
  {
   "cell_type": "code",
   "execution_count": 2,
   "metadata": {
    "collapsed": true
   },
   "outputs": [],
   "source": [
    "xs0 = np.loadtxt('4000ARs/M_Car1_aug_shs0.txt')\n",
    "xs1 = np.loadtxt('4000ARs/M_Car1_aug_shs1.txt')\n",
    "xs2 = np.loadtxt('4000ARs/M_Car1_aug_shs2.txt')\n",
    "xs3 = np.loadtxt('4000ARs/M_Car1_aug_shs3.txt')"
   ]
  },
  {
   "cell_type": "code",
   "execution_count": 3,
   "metadata": {
    "collapsed": true
   },
   "outputs": [],
   "source": [
    "xs = np.append(xs0, xs1, axis=0)\n",
    "xs = np.append(xs, xs2, axis=0)\n",
    "xs = np.append(xs, xs3, axis=0)\n",
    "xs = np.matrix(xs)"
   ]
  },
  {
   "cell_type": "code",
   "execution_count": 4,
   "metadata": {
    "collapsed": true
   },
   "outputs": [],
   "source": [
    "ys = [0] * 1000\n",
    "ys.extend([1] * 1000)\n",
    "ys.extend([2] * 1000)\n",
    "ys.extend([3] * 1000)\n",
    "ys = np.array(ys)"
   ]
  },
  {
   "cell_type": "code",
   "execution_count": 6,
   "metadata": {},
   "outputs": [],
   "source": [
    "train_x, test_x, train_y, test_y = train_test_split(xs, ys, train_size=0.8)"
   ]
  },
  {
   "cell_type": "code",
   "execution_count": null,
   "metadata": {
    "collapsed": true
   },
   "outputs": [],
   "source": [
    "C = 1.0  # SVM regularization parameter\n",
    "\n",
    "# SVC with linear kernel\n",
    "svc = svm.SVC(kernel='linear', C=C).fit(train_x, train_y)\n",
    "\n",
    "# LinearSVC (linear kernel)\n",
    "# lin_svc = svm.LinearSVC(C=C).fit(train_x, train_y)\n",
    "\n",
    "# SVC with RBF kernel\n",
    "# rbf_svc = svm.SVC(kernel='rbf', gamma=0.7, C=C).fit(train_x, train_y)\n",
    "\n",
    "# SVC with polynomial (degree 3) kernel\n",
    "# poly_svc = svm.SVC(kernel='poly', degree=3, C=C).fit(train_x, train_y)"
   ]
  },
  {
   "cell_type": "code",
   "execution_count": null,
   "metadata": {
    "collapsed": true
   },
   "outputs": [],
   "source": []
  }
 ],
 "metadata": {
  "kernelspec": {
   "display_name": "Python 2",
   "language": "python",
   "name": "python2"
  },
  "language_info": {
   "codemirror_mode": {
    "name": "ipython",
    "version": 2
   },
   "file_extension": ".py",
   "mimetype": "text/x-python",
   "name": "python",
   "nbconvert_exporter": "python",
   "pygments_lexer": "ipython2",
   "version": "2.7.14"
  }
 },
 "nbformat": 4,
 "nbformat_minor": 2
}
