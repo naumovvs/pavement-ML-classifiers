{
 "cells": [
  {
   "cell_type": "code",
   "execution_count": 1,
   "metadata": {
    "collapsed": true
   },
   "outputs": [],
   "source": [
    "import numpy as np\n",
    "from sklearn.model_selection import train_test_split\n",
    "from sklearn.ensemble import RandomForestClassifier\n",
    "from sklearn.metrics import accuracy_score\n",
    "# from sklearn.metrics import confusion_matrix\n",
    "import matplotlib.pyplot as plt"
   ]
  },
  {
   "cell_type": "markdown",
   "metadata": {},
   "source": [
    "Load datasets"
   ]
  },
  {
   "cell_type": "code",
   "execution_count": 2,
   "metadata": {
    "collapsed": true
   },
   "outputs": [],
   "source": [
    "X, Y = [], []"
   ]
  },
  {
   "cell_type": "code",
   "execution_count": 3,
   "metadata": {
    "collapsed": true
   },
   "outputs": [],
   "source": [
    "# 40 records\n",
    "xs0 = np.loadtxt('40ARs/M_Car1_aug_shs0.txt')\n",
    "xs1 = np.loadtxt('40ARs/M_Car1_aug_shs1.txt')\n",
    "xs2 = np.loadtxt('40ARs/M_Car1_aug_shs2.txt')\n",
    "xs3 = np.loadtxt('40ARs/M_Car1_aug_shs3.txt')\n",
    "xs = np.append(xs0, xs1, axis=0)\n",
    "xs = np.append(xs, xs2, axis=0)\n",
    "xs = np.append(xs, xs3, axis=0)\n",
    "\n",
    "ys = [0] * 10\n",
    "ys.extend([1] * 10)\n",
    "ys.extend([2] * 10)\n",
    "ys.extend([3] * 10)\n",
    "ys = np.array(ys)\n",
    "\n",
    "X.append(xs)\n",
    "Y.append(ys)"
   ]
  },
  {
   "cell_type": "code",
   "execution_count": 4,
   "metadata": {
    "collapsed": true
   },
   "outputs": [],
   "source": [
    "# 400 records\n",
    "xs0 = np.loadtxt('400ARs/M_Car1_aug_shs0.txt')\n",
    "xs1 = np.loadtxt('400ARs/M_Car1_aug_shs1.txt')\n",
    "xs2 = np.loadtxt('400ARs/M_Car1_aug_shs2.txt')\n",
    "xs3 = np.loadtxt('400ARs/M_Car1_aug_shs3.txt')\n",
    "xs = np.append(xs0, xs1, axis=0)\n",
    "xs = np.append(xs, xs2, axis=0)\n",
    "xs = np.append(xs, xs3, axis=0)\n",
    "\n",
    "ys = [0] * 100\n",
    "ys.extend([1] * 100)\n",
    "ys.extend([2] * 100)\n",
    "ys.extend([3] * 100)\n",
    "ys = np.array(ys)\n",
    "\n",
    "X.append(xs)\n",
    "Y.append(ys)"
   ]
  },
  {
   "cell_type": "code",
   "execution_count": 5,
   "metadata": {
    "collapsed": true
   },
   "outputs": [],
   "source": [
    "# 800 records\n",
    "xs0 = np.loadtxt('800ARs/M_Car1_aug_shs0.txt')\n",
    "xs1 = np.loadtxt('800ARs/M_Car1_aug_shs1.txt')\n",
    "xs2 = np.loadtxt('800ARs/M_Car1_aug_shs2.txt')\n",
    "xs3 = np.loadtxt('800ARs/M_Car1_aug_shs3.txt')\n",
    "xs = np.append(xs0, xs1, axis=0)\n",
    "xs = np.append(xs, xs2, axis=0)\n",
    "xs = np.append(xs, xs3, axis=0)\n",
    "\n",
    "ys = [0] * 200\n",
    "ys.extend([1] * 200)\n",
    "ys.extend([2] * 200)\n",
    "ys.extend([3] * 200)\n",
    "ys = np.array(ys)\n",
    "\n",
    "X.append(xs)\n",
    "Y.append(ys)"
   ]
  },
  {
   "cell_type": "code",
   "execution_count": 6,
   "metadata": {
    "collapsed": true
   },
   "outputs": [],
   "source": [
    "# 1600 records\n",
    "xs0 = np.loadtxt('1600ARs/M_Car1_aug_shs0.txt')\n",
    "xs1 = np.loadtxt('1600ARs/M_Car1_aug_shs1.txt')\n",
    "xs2 = np.loadtxt('1600ARs/M_Car1_aug_shs2.txt')\n",
    "xs3 = np.loadtxt('1600ARs/M_Car1_aug_shs3.txt')\n",
    "xs = np.append(xs0, xs1, axis=0)\n",
    "xs = np.append(xs, xs2, axis=0)\n",
    "xs = np.append(xs, xs3, axis=0)\n",
    "\n",
    "ys = [0] * 400\n",
    "ys.extend([1] * 400)\n",
    "ys.extend([2] * 400)\n",
    "ys.extend([3] * 400)\n",
    "ys = np.array(ys)\n",
    "\n",
    "X.append(xs)\n",
    "Y.append(ys)"
   ]
  },
  {
   "cell_type": "code",
   "execution_count": 7,
   "metadata": {
    "collapsed": true
   },
   "outputs": [],
   "source": [
    "# 3200 records\n",
    "xs0 = np.loadtxt('3200ARs/M_Car1_aug_shs0.txt')\n",
    "xs1 = np.loadtxt('3200ARs/M_Car1_aug_shs1.txt')\n",
    "xs2 = np.loadtxt('3200ARs/M_Car1_aug_shs2.txt')\n",
    "xs3 = np.loadtxt('3200ARs/M_Car1_aug_shs3.txt')\n",
    "xs = np.append(xs0, xs1, axis=0)\n",
    "xs = np.append(xs, xs2, axis=0)\n",
    "xs = np.append(xs, xs3, axis=0)\n",
    "\n",
    "ys = [0] * 800\n",
    "ys.extend([1] * 800)\n",
    "ys.extend([2] * 800)\n",
    "ys.extend([3] * 800)\n",
    "ys = np.array(ys)\n",
    "\n",
    "X.append(xs)\n",
    "Y.append(ys)"
   ]
  },
  {
   "cell_type": "code",
   "execution_count": 8,
   "metadata": {
    "collapsed": true
   },
   "outputs": [],
   "source": [
    "# 4000 records\n",
    "xs0 = np.loadtxt('4000ARs/M_Car1_aug_shs0.txt')\n",
    "xs1 = np.loadtxt('4000ARs/M_Car1_aug_shs1.txt')\n",
    "xs2 = np.loadtxt('4000ARs/M_Car1_aug_shs2.txt')\n",
    "xs3 = np.loadtxt('4000ARs/M_Car1_aug_shs3.txt')\n",
    "xs = np.append(xs0, xs1, axis=0)\n",
    "xs = np.append(xs, xs2, axis=0)\n",
    "xs = np.append(xs, xs3, axis=0)\n",
    "\n",
    "ys = [0] * 1000\n",
    "ys.extend([1] * 1000)\n",
    "ys.extend([2] * 1000)\n",
    "ys.extend([3] * 1000)\n",
    "ys = np.array(ys)\n",
    "\n",
    "X.append(xs)\n",
    "Y.append(ys)"
   ]
  },
  {
   "cell_type": "markdown",
   "metadata": {},
   "source": [
    "Train classifiers"
   ]
  },
  {
   "cell_type": "code",
   "execution_count": 9,
   "metadata": {},
   "outputs": [
    {
     "name": "stdout",
     "output_type": "stream",
     "text": [
      "Number of trees :: 5\n",
      "\n"
     ]
    },
    {
     "name": "stderr",
     "output_type": "stream",
     "text": [
      "C:\\ProgramData\\Anaconda2\\lib\\site-packages\\sklearn\\model_selection\\_split.py:2026: FutureWarning: From version 0.21, test_size will always complement train_size unless both are specified.\n",
      "  FutureWarning)\n"
     ]
    },
    {
     "name": "stdout",
     "output_type": "stream",
     "text": [
      "[[ 0.15625     0.246875    0.3         0.30546875  0.39765625  0.4490625 ]\n",
      " [ 0.28571429  0.30714286  0.2875      0.37142857  0.43883929  0.49071429]\n",
      " [ 0.08333333  0.2875      0.33958333  0.353125    0.47708333  0.52375   ]\n",
      " [ 0.25        0.235       0.3475      0.3575      0.535       0.573     ]\n",
      " [ 0.25        0.34375     0.3625      0.3546875   0.5328125   0.611875  ]\n",
      " [ 0.16666667  0.275       0.35416667  0.41041667  0.54479167  0.61583333]\n",
      " [ 0.25        0.375       0.3625      0.4         0.571875    0.59875   ]]\n",
      "\n",
      "Number of trees :: 10\n",
      "\n",
      "[[ 0.125       0.296875    0.3421875   0.32734375  0.47734375  0.4909375 ]\n",
      " [ 0.25        0.27857143  0.37142857  0.39464286  0.5         0.58857143]\n",
      " [ 0.08333333  0.25833333  0.39791667  0.43125     0.57708333  0.63041667]\n",
      " [ 0.3         0.275       0.3475      0.46        0.585       0.669     ]\n",
      " [ 0.0625      0.29375     0.39375     0.4671875   0.60234375  0.69125   ]\n",
      " [ 0.16666667  0.28333333  0.4125      0.48125     0.659375    0.725     ]\n",
      " [ 0.25        0.275       0.475       0.546875    0.6546875   0.75625   ]]\n",
      "\n",
      "Number of trees :: 20\n",
      "\n",
      "[[ 0.15625     0.29375     0.3453125   0.39765625  0.50351563  0.5571875 ]\n",
      " [ 0.14285714  0.32857143  0.36071429  0.43571429  0.57633929  0.64      ]\n",
      " [ 0.25        0.26666667  0.3625      0.48645833  0.61822917  0.71416667]\n",
      " [ 0.2         0.35        0.425       0.5125      0.659375    0.7575    ]\n",
      " [ 0.1875      0.3         0.41875     0.5078125   0.70703125  0.77125   ]\n",
      " [ 0.08333333  0.26666667  0.45833333  0.48958333  0.76041667  0.805     ]\n",
      " [ 0.25        0.2375      0.475       0.553125    0.7578125   0.8225    ]]\n",
      "\n",
      "Number of trees :: 50\n",
      "\n",
      "[[ 0.21875     0.36875     0.3953125   0.446875    0.56679687  0.646875  ]\n",
      " [ 0.21428571  0.31428571  0.41071429  0.47589286  0.66339286  0.75035714]\n",
      " [ 0.29166667  0.35833333  0.41875     0.54166667  0.73125     0.78916667]\n",
      " [ 0.3         0.355       0.4675      0.61125     0.758125    0.8235    ]\n",
      " [ 0.125       0.40625     0.45625     0.6046875   0.771875    0.835625  ]\n",
      " [ 0.16666667  0.4         0.45833333  0.65208333  0.815625    0.85333333]\n",
      " [ 0.25        0.4         0.45625     0.684375    0.8484375   0.8775    ]]\n",
      "\n",
      "Number of trees :: 100\n",
      "\n",
      "[[ 0.1875      0.353125    0.3890625   0.49609375  0.61992187  0.7159375 ]\n",
      " [ 0.21428571  0.39642857  0.43035714  0.53125     0.728125    0.77214286]\n",
      " [ 0.125       0.375       0.44791667  0.55104167  0.76041667  0.82333333]\n",
      " [ 0.2         0.385       0.49        0.63375     0.791875    0.878     ]\n",
      " [ 0.3125      0.4125      0.5         0.6         0.84140625  0.861875  ]\n",
      " [ 0.25        0.375       0.5375      0.68333333  0.87291667  0.89666667]\n",
      " [ 0.125       0.3875      0.58125     0.7375      0.903125    0.91      ]]\n",
      "\n"
     ]
    }
   ],
   "source": [
    "n_es = [5, 10, 20, 50, 100]\n",
    "sample_split = [0.2, 0.3, 0.4, 0.5, 0.6, 0.7, 0.8]\n",
    "\n",
    "for n_estimators in n_es:\n",
    "    accs = []\n",
    "    print \"Number of trees ::\", n_estimators\n",
    "    print\n",
    "    for train_size in sample_split:\n",
    "        train_acc, test_acc = [], []\n",
    "        for xs, ys in zip(X, Y):\n",
    "            train_x, test_x, train_y, test_y = train_test_split(xs, ys, train_size=train_size)\n",
    "            clf = RandomForestClassifier(n_estimators = n_estimators)\n",
    "            clf.fit(train_x, train_y)\n",
    "            train_acc.append(accuracy_score(train_y, clf.predict(train_x)))\n",
    "            test_acc.append(accuracy_score(test_y, clf.predict(test_x)))\n",
    "        # print \"Sample split :: {}% / {}%\".format(100 * train_size, 100 * (1 - train_size))\n",
    "        # print train_acc\n",
    "        # print test_acc\n",
    "        # plt.plot(train_acc)\n",
    "        # plt.plot(test_acc)\n",
    "        # plt.show()\n",
    "        accs.append(test_acc)\n",
    "    print np.matrix(accs)\n",
    "    print"
   ]
  },
  {
   "cell_type": "code",
   "execution_count": null,
   "metadata": {
    "collapsed": true
   },
   "outputs": [],
   "source": []
  }
 ],
 "metadata": {
  "kernelspec": {
   "display_name": "Python 2",
   "language": "python",
   "name": "python2"
  },
  "language_info": {
   "codemirror_mode": {
    "name": "ipython",
    "version": 2
   },
   "file_extension": ".py",
   "mimetype": "text/x-python",
   "name": "python",
   "nbconvert_exporter": "python",
   "pygments_lexer": "ipython2",
   "version": "2.7.14"
  }
 },
 "nbformat": 4,
 "nbformat_minor": 2
}
