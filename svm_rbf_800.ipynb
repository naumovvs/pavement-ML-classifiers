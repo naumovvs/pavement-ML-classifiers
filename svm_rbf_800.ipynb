{
 "cells": [
  {
   "cell_type": "code",
   "execution_count": 1,
   "metadata": {
    "collapsed": true
   },
   "outputs": [],
   "source": [
    "import numpy as np\n",
    "from sklearn import svm\n",
    "from sklearn.model_selection import train_test_split\n",
    "from sklearn.metrics import accuracy_score"
   ]
  },
  {
   "cell_type": "code",
   "execution_count": 3,
   "metadata": {},
   "outputs": [],
   "source": [
    "xs0 = np.loadtxt('800ARs/M_Car1_aug_shs0.txt')\n",
    "xs1 = np.loadtxt('800ARs/M_Car1_aug_shs1.txt')\n",
    "xs2 = np.loadtxt('800ARs/M_Car1_aug_shs2.txt')\n",
    "xs3 = np.loadtxt('800ARs/M_Car1_aug_shs3.txt')\n",
    "\n",
    "xs = np.append(xs0, xs1, axis=0)\n",
    "xs = np.append(xs, xs2, axis=0)\n",
    "xs = np.append(xs, xs3, axis=0)\n",
    "xs = np.matrix(xs)\n",
    "\n",
    "ys = [0] * 200\n",
    "ys.extend([1] * 200)\n",
    "ys.extend([2] * 200)\n",
    "ys.extend([3] * 200)\n",
    "ys = np.array(ys)\n",
    "\n",
    "train_x, test_x, train_y, test_y = train_test_split(xs, ys, train_size=0.8)"
   ]
  },
  {
   "cell_type": "code",
   "execution_count": 5,
   "metadata": {},
   "outputs": [
    {
     "name": "stdout",
     "output_type": "stream",
     "text": [
      "[1.0, 1.0, 1.0, 1.0]\n",
      "[0.25, 0.25624999999999998, 0.25624999999999998, 0.25624999999999998]\n"
     ]
    }
   ],
   "source": [
    "Cs = [1.0, 10.0, 100.0, 1000.0]  # SVM regularization parameter\n",
    "train_acc, test_acc = [], []\n",
    "\n",
    "# SVC with RBF kernel\n",
    "for C in Cs:\n",
    "    rbf_svc = svm.SVC(kernel='rbf', gamma=0.7, C=C).fit(train_x, train_y)\n",
    "    predictions = rbf_svc.predict(test_x)\n",
    "    train_acc.append(accuracy_score(train_y, rbf_svc.predict(train_x)))\n",
    "    test_acc.append(accuracy_score(test_y, predictions))\n",
    "\n",
    "print train_acc\n",
    "print test_acc"
   ]
  },
  {
   "cell_type": "code",
   "execution_count": 6,
   "metadata": {},
   "outputs": [
    {
     "name": "stdout",
     "output_type": "stream",
     "text": [
      "[0.50624999999999998, 0.50624999999999998, 0.50624999999999998, 0.50624999999999998]\n",
      "[0.23749999999999999, 0.23749999999999999, 0.23749999999999999, 0.23749999999999999]\n"
     ]
    }
   ],
   "source": [
    "Cs = [0.1, 0.01, 0.001, 0.0001]  # SVM regularization parameter\n",
    "train_acc, test_acc = [], []\n",
    "\n",
    "# SVC with RBF kernel\n",
    "for C in Cs:\n",
    "    rbf_svc = svm.SVC(kernel='rbf', gamma=0.7, C=C).fit(train_x, train_y)\n",
    "    predictions = rbf_svc.predict(test_x)\n",
    "    train_acc.append(accuracy_score(train_y, rbf_svc.predict(train_x)))\n",
    "    test_acc.append(accuracy_score(test_y, predictions))\n",
    "\n",
    "print train_acc\n",
    "print test_acc"
   ]
  },
  {
   "cell_type": "code",
   "execution_count": 7,
   "metadata": {},
   "outputs": [
    {
     "name": "stdout",
     "output_type": "stream",
     "text": [
      "[1.0, 1.0, 1.0, 1.0, 1.0]\n",
      "[0.30625000000000002, 0.25624999999999998, 0.25624999999999998, 0.25, 0.24374999999999999]\n"
     ]
    }
   ],
   "source": [
    "C = 1.0 # SVM regularization parameter\n",
    "gammas = [0.1, 0.3, 0.5, 0.7, 0.9]\n",
    "train_acc, test_acc = [], []\n",
    "\n",
    "# SVC with RBF kernel\n",
    "for gamma in gammas:\n",
    "    rbf_svc = svm.SVC(kernel='rbf', gamma=gamma, C=C).fit(train_x, train_y)\n",
    "    predictions = rbf_svc.predict(test_x)\n",
    "    train_acc.append(accuracy_score(train_y, rbf_svc.predict(train_x)))\n",
    "    test_acc.append(accuracy_score(test_y, predictions))\n",
    "\n",
    "print train_acc\n",
    "print test_acc"
   ]
  },
  {
   "cell_type": "code",
   "execution_count": 8,
   "metadata": {},
   "outputs": [
    {
     "name": "stdout",
     "output_type": "stream",
     "text": [
      "[0.60312500000000002, 0.90937500000000004, 1.0, 1.0, 1.0]\n",
      "[0.29999999999999999, 0.5, 0.59999999999999998, 0.46875, 0.30625000000000002]\n"
     ]
    }
   ],
   "source": [
    "C = 1.0 # SVM regularization parameter\n",
    "gammas = [0.001, 0.005, 0.01, 0.05, 0.1]\n",
    "train_acc, test_acc = [], []\n",
    "\n",
    "# SVC with RBF kernel\n",
    "for gamma in gammas:\n",
    "    rbf_svc = svm.SVC(kernel='rbf', gamma=gamma, C=C).fit(train_x, train_y)\n",
    "    predictions = rbf_svc.predict(test_x)\n",
    "    train_acc.append(accuracy_score(train_y, rbf_svc.predict(train_x)))\n",
    "    test_acc.append(accuracy_score(test_y, predictions))\n",
    "\n",
    "print train_acc\n",
    "print test_acc"
   ]
  },
  {
   "cell_type": "code",
   "execution_count": 9,
   "metadata": {},
   "outputs": [
    {
     "name": "stdout",
     "output_type": "stream",
     "text": [
      "[1.0, 1.0, 1.0, 1.0, 1.0, 1.0, 1.0, 1.0]\n",
      "[0.59999999999999998, 0.625, 0.59999999999999998, 0.59999999999999998, 0.61875000000000002, 0.60624999999999996, 0.53125, 0.5]\n"
     ]
    }
   ],
   "source": [
    "C = 1.0 # SVM regularization parameter\n",
    "gammas = [0.01, 0.015, 0.02, 0.025, 0.03, 0.035, 0.04, 0.045]\n",
    "train_acc, test_acc = [], []\n",
    "\n",
    "# SVC with RBF kernel\n",
    "for gamma in gammas:\n",
    "    rbf_svc = svm.SVC(kernel='rbf', gamma=gamma, C=C).fit(train_x, train_y)\n",
    "    predictions = rbf_svc.predict(test_x)\n",
    "    train_acc.append(accuracy_score(train_y, rbf_svc.predict(train_x)))\n",
    "    test_acc.append(accuracy_score(test_y, predictions))\n",
    "\n",
    "print train_acc\n",
    "print test_acc"
   ]
  },
  {
   "cell_type": "code",
   "execution_count": 10,
   "metadata": {},
   "outputs": [
    {
     "name": "stdout",
     "output_type": "stream",
     "text": [
      "[0.60312500000000002, 0.65937500000000004, 0.77187499999999998, 0.85312500000000002, 0.90937500000000004, 0.953125, 0.98281249999999998, 0.98750000000000004, 0.99375000000000002]\n",
      "[0.29999999999999999, 0.35625000000000001, 0.43125000000000002, 0.46875, 0.5, 0.53125, 0.5625, 0.56874999999999998, 0.59375]\n"
     ]
    }
   ],
   "source": [
    "C = 1.0 # SVM regularization parameter\n",
    "gammas = [0.001, 0.002, 0.003, 0.004, 0.005, 0.006, 0.007, 0.008, 0.009]\n",
    "train_acc, test_acc = [], []\n",
    "\n",
    "# SVC with RBF kernel\n",
    "for gamma in gammas:\n",
    "    rbf_svc = svm.SVC(kernel='rbf', gamma=gamma, C=C).fit(train_x, train_y)\n",
    "    predictions = rbf_svc.predict(test_x)\n",
    "    train_acc.append(accuracy_score(train_y, rbf_svc.predict(train_x)))\n",
    "    test_acc.append(accuracy_score(test_y, predictions))\n",
    "\n",
    "print train_acc\n",
    "print test_acc"
   ]
  },
  {
   "cell_type": "code",
   "execution_count": 11,
   "metadata": {},
   "outputs": [
    {
     "name": "stdout",
     "output_type": "stream",
     "text": [
      "[1.0, 1.0, 1.0, 1.0, 1.0, 1.0, 1.0, 1.0, 1.0]\n",
      "[0.61875000000000002, 0.625, 0.61875000000000002, 0.625, 0.625, 0.63124999999999998, 0.63124999999999998, 0.63124999999999998, 0.61250000000000004]\n"
     ]
    }
   ],
   "source": [
    "C = 1.0 # SVM regularization parameter\n",
    "gammas = [0.011, 0.012, 0.013, 0.014, 0.015, 0.016, 0.017, 0.018, 0.019]\n",
    "train_acc, test_acc = [], []\n",
    "\n",
    "# SVC with RBF kernel\n",
    "for gamma in gammas:\n",
    "    rbf_svc = svm.SVC(kernel='rbf', gamma=gamma, C=C).fit(train_x, train_y)\n",
    "    predictions = rbf_svc.predict(test_x)\n",
    "    train_acc.append(accuracy_score(train_y, rbf_svc.predict(train_x)))\n",
    "    test_acc.append(accuracy_score(test_y, predictions))\n",
    "\n",
    "print train_acc\n",
    "print test_acc"
   ]
  },
  {
   "cell_type": "code",
   "execution_count": 13,
   "metadata": {},
   "outputs": [
    {
     "name": "stdout",
     "output_type": "stream",
     "text": [
      "[1.0, 1.0, 1.0, 1.0]\n",
      "[0.63749999999999996, 0.64375000000000004, 0.65625, 0.65625]\n"
     ]
    }
   ],
   "source": [
    "Cs = [1.1, 1.3, 1.7, 1.9] # SVM regularization parameter\n",
    "gamma = 0.015\n",
    "train_acc, test_acc = [], []\n",
    "\n",
    "# SVC with RBF kernel\n",
    "for C in Cs:\n",
    "    rbf_svc = svm.SVC(kernel='rbf', gamma=gamma, C=C).fit(train_x, train_y)\n",
    "    predictions = rbf_svc.predict(test_x)\n",
    "    train_acc.append(accuracy_score(train_y, rbf_svc.predict(train_x)))\n",
    "    test_acc.append(accuracy_score(test_y, predictions))\n",
    "\n",
    "print train_acc\n",
    "print test_acc"
   ]
  },
  {
   "cell_type": "code",
   "execution_count": null,
   "metadata": {
    "collapsed": true
   },
   "outputs": [],
   "source": []
  }
 ],
 "metadata": {
  "kernelspec": {
   "display_name": "Python 2",
   "language": "python",
   "name": "python2"
  },
  "language_info": {
   "codemirror_mode": {
    "name": "ipython",
    "version": 2
   },
   "file_extension": ".py",
   "mimetype": "text/x-python",
   "name": "python",
   "nbconvert_exporter": "python",
   "pygments_lexer": "ipython2",
   "version": "2.7.14"
  }
 },
 "nbformat": 4,
 "nbformat_minor": 2
}
