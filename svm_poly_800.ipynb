{
 "cells": [
  {
   "cell_type": "code",
   "execution_count": 1,
   "metadata": {
    "collapsed": true
   },
   "outputs": [],
   "source": [
    "import numpy as np\n",
    "from sklearn.model_selection import train_test_split\n",
    "from sklearn import svm\n",
    "from sklearn.metrics import accuracy_score"
   ]
  },
  {
   "cell_type": "code",
   "execution_count": 7,
   "metadata": {},
   "outputs": [],
   "source": [
    "xs0 = np.loadtxt('800ARs/M_Car1_aug_shs0.txt')\n",
    "xs1 = np.loadtxt('800ARs/M_Car1_aug_shs1.txt')\n",
    "xs2 = np.loadtxt('800ARs/M_Car1_aug_shs2.txt')\n",
    "xs3 = np.loadtxt('800ARs/M_Car1_aug_shs3.txt')\n",
    "\n",
    "xs = np.append(xs0, xs1, axis=0)\n",
    "xs = np.append(xs, xs2, axis=0)\n",
    "xs = np.append(xs, xs3, axis=0)\n",
    "\n",
    "ys = [0] * 200\n",
    "ys.extend([1] * 200)\n",
    "ys.extend([2] * 200)\n",
    "ys.extend([3] * 200)\n",
    "ys = np.array(ys)\n",
    "\n",
    "train_x, test_x, train_y, test_y = train_test_split(xs, ys, train_size=0.8)"
   ]
  },
  {
   "cell_type": "code",
   "execution_count": 4,
   "metadata": {},
   "outputs": [
    {
     "name": "stdout",
     "output_type": "stream",
     "text": [
      "[0.2578125, 0.2578125, 0.2578125, 0.2578125, 0.2578125]\n",
      "[0.21875, 0.21875, 0.21875, 0.21875, 0.21875]\n"
     ]
    }
   ],
   "source": [
    "# SVC with polynomial kernel\n",
    "Cs = [1.0, 5.0, 10.0, 50.0, 100.0] # SVM regularization parameter\n",
    "train_acc, test_acc = [], []\n",
    "\n",
    "for C in Cs:\n",
    "    poly_svc = svm.SVC(kernel='poly', degree=3, C=C).fit(train_x, train_y)\n",
    "    train_acc.append(accuracy_score(train_y, poly_svc.predict(train_x)))\n",
    "    test_acc.append(accuracy_score(test_y, poly_svc.predict(test_x)))\n",
    "\n",
    "print train_acc\n",
    "print test_acc"
   ]
  },
  {
   "cell_type": "code",
   "execution_count": 5,
   "metadata": {},
   "outputs": [
    {
     "name": "stdout",
     "output_type": "stream",
     "text": [
      "[0.2578125, 0.2578125, 0.2578125, 0.2578125, 0.2578125]\n",
      "[0.21875, 0.21875, 0.21875, 0.21875, 0.21875]\n"
     ]
    }
   ],
   "source": [
    "# SVC with polynomial kernel\n",
    "Cs = [0.1, 0.3, 0.5, 0.7, 0.9] # SVM regularization parameter\n",
    "train_acc, test_acc = [], []\n",
    "\n",
    "for C in Cs:\n",
    "    poly_svc = svm.SVC(kernel='poly', degree=3, C=C).fit(train_x, train_y)\n",
    "    train_acc.append(accuracy_score(train_y, poly_svc.predict(train_x)))\n",
    "    test_acc.append(accuracy_score(test_y, poly_svc.predict(test_x)))\n",
    "\n",
    "print train_acc\n",
    "print test_acc"
   ]
  },
  {
   "cell_type": "code",
   "execution_count": 8,
   "metadata": {},
   "outputs": [
    {
     "name": "stdout",
     "output_type": "stream",
     "text": [
      "[0.2578125, 0.2578125, 0.2578125, 0.2578125, 0.2578125, 0.2578125]\n",
      "[0.21875, 0.21875, 0.21875, 0.21875, 0.21875, 0.21875]\n"
     ]
    }
   ],
   "source": [
    "# SVC with polynomial kernel\n",
    "C = 1.0 # SVM regularization parameter\n",
    "degrees = [2, 3, 4, 5, 6, 7]\n",
    "train_acc, test_acc = [], []\n",
    "\n",
    "for degree in degrees:\n",
    "    poly_svc = svm.SVC(kernel='poly', degree=degree, C=C).fit(train_x, train_y)\n",
    "    train_acc.append(accuracy_score(train_y, poly_svc.predict(train_x)))\n",
    "    test_acc.append(accuracy_score(test_y, poly_svc.predict(test_x)))\n",
    "\n",
    "print train_acc\n",
    "print test_acc"
   ]
  },
  {
   "cell_type": "code",
   "execution_count": null,
   "metadata": {
    "collapsed": true
   },
   "outputs": [],
   "source": []
  }
 ],
 "metadata": {
  "kernelspec": {
   "display_name": "Python 2",
   "language": "python",
   "name": "python2"
  },
  "language_info": {
   "codemirror_mode": {
    "name": "ipython",
    "version": 2
   },
   "file_extension": ".py",
   "mimetype": "text/x-python",
   "name": "python",
   "nbconvert_exporter": "python",
   "pygments_lexer": "ipython2",
   "version": "2.7.14"
  }
 },
 "nbformat": 4,
 "nbformat_minor": 2
}
